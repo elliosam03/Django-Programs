{
 "cells": [
  {
   "cell_type": "code",
   "execution_count": 1,
   "id": "0530903e-c8d2-4a8d-9f8a-192972842572",
   "metadata": {},
   "outputs": [],
   "source": [
    "#16.4 \n",
    "import sqlite3\n",
    "\n",
    "conn = sqlite3.connect('books.db')\n",
    "\n",
    "cur = conn.cursor()\n",
    "\n",
    "cur.execute('''\n",
    "CREATE TABLE IF NOT EXISTS books (\n",
    "    title TEXT,\n",
    "    author TEXT,\n",
    "    year INTEGER\n",
    ")\n",
    "''')\n",
    "\n",
    "conn.commit()\n",
    "conn.close()"
   ]
  },
  {
   "cell_type": "code",
   "execution_count": 3,
   "id": "671a8f98-29c1-4095-8bb6-794c9d09479d",
   "metadata": {},
   "outputs": [],
   "source": [
    "#16.5\n",
    "import sqlite3\n",
    "import csv\n",
    "\n",
    "conn = sqlite3.connect(\"books.db\")\n",
    "cursor = conn.cursor()\n",
    "\n",
    "with open('books2.csv', 'r') as file:\n",
    "    csv_reader = csv.reader(file)\n",
    "    next(csv_reader)\n",
    "\n",
    "    for row in csv_reader:\n",
    "        cursor.execute(\"INSERT INTO books (title, author, year) VALUES (?, ?, ?)\", (row[0], row[1], row[2]))\n",
    "\n",
    "conn.commit()\n",
    "conn.close()"
   ]
  },
  {
   "cell_type": "code",
   "execution_count": 5,
   "id": "810545f0-087f-41f2-9ef2-15b12591456b",
   "metadata": {},
   "outputs": [
    {
     "name": "stdout",
     "output_type": "stream",
     "text": [
      "Perdido Street Station\n",
      "Small Gods\n",
      "The Spellman Files\n",
      "The Weirdstone of Brisingamen\n",
      "Thud!\n"
     ]
    }
   ],
   "source": [
    "#16.8\n",
    "from sqlalchemy import create_engine, Table, MetaData\n",
    "\n",
    "# Create an engine to connect to the SQLite database\n",
    "engine = create_engine('sqlite:///books.db')\n",
    "\n",
    "# Create a MetaData object to hold information about the schema\n",
    "metadata = MetaData()\n",
    "\n",
    "# Reflect the books table from the database\n",
    "books_table = Table('books', metadata, autoload_with=engine)\n",
    "\n",
    "# Query to select titles in alphabetical order\n",
    "with engine.connect() as connection:\n",
    "    result = connection.execute(books_table.select().order_by(books_table.c.title))\n",
    "\n",
    "    # Print the titles\n",
    "    for row in result:\n",
    "        print(row[0])\n"
   ]
  }
 ],
 "metadata": {
  "kernelspec": {
   "display_name": "Python [conda env:base] *",
   "language": "python",
   "name": "conda-base-py"
  },
  "language_info": {
   "codemirror_mode": {
    "name": "ipython",
    "version": 3
   },
   "file_extension": ".py",
   "mimetype": "text/x-python",
   "name": "python",
   "nbconvert_exporter": "python",
   "pygments_lexer": "ipython3",
   "version": "3.12.7"
  }
 },
 "nbformat": 4,
 "nbformat_minor": 5
}
